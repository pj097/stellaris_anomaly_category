{
 "cells": [
  {
   "cell_type": "code",
   "execution_count": 1,
   "id": "54f06e83-294e-4a02-8c69-b82da33ba86e",
   "metadata": {},
   "outputs": [],
   "source": [
    "from IPython.display import display, HTML\n",
    "import pandas as pd\n",
    "from pathlib import Path"
   ]
  },
  {
   "cell_type": "markdown",
   "id": "f7a0a979-6865-44d0-b76c-a7f4b270d556",
   "metadata": {},
   "source": [
    "For simplicity, I suggest creating a shortcut that leads to the Stellaris directory inside Steam. Alternatively, replace steam_stellaris with the full path. The full path looks like C:\\Program Files (x86)\\Steam\\steamapps\\common\\Stellaris."
   ]
  },
  {
   "cell_type": "code",
   "execution_count": 2,
   "id": "7d75583c-f446-4094-9e29-b1be007173ac",
   "metadata": {},
   "outputs": [],
   "source": [
    "stellaris_path = Path('steam_stellaris')\n",
    "localisation_path = stellaris_path.joinpath('localisation')"
   ]
  },
  {
   "cell_type": "markdown",
   "id": "f60453f0-7fcc-4f39-8475-72b62bca510f",
   "metadata": {},
   "source": [
    "This is where the modified files will be saved."
   ]
  },
  {
   "cell_type": "code",
   "execution_count": 3,
   "id": "b7f22ef2-5ca0-437b-8083-2c25f706eace",
   "metadata": {},
   "outputs": [],
   "source": [
    "replace_dir = Path('localisation', 'replace')"
   ]
  },
  {
   "cell_type": "markdown",
   "id": "29a5b401-0312-4229-93bd-bf5f38452631",
   "metadata": {},
   "source": [
    "Grab the anomaly tables from the wiki"
   ]
  },
  {
   "cell_type": "code",
   "execution_count": 4,
   "id": "a0d51c50-aa37-4dbd-8781-1b4ff23d9aa7",
   "metadata": {},
   "outputs": [
    {
     "data": {
      "text/plain": [
       "'Found 20 tables'"
      ]
     },
     "execution_count": 4,
     "metadata": {},
     "output_type": "execute_result"
    }
   ],
   "source": [
    "anomaly_url = 'https://stellaris.paradoxwikis.com/Anomaly'\n",
    "tables = pd.read_html(anomaly_url)\n",
    "f'Found {len(tables)} tables'"
   ]
  },
  {
   "cell_type": "markdown",
   "id": "48e23c9f-9232-4179-b4f4-d0c38e022c76",
   "metadata": {},
   "source": [
    "Unfortunately, not all table defintions are actually useful. Inspect tables to find which and modify below if needed."
   ]
  },
  {
   "cell_type": "code",
   "execution_count": 5,
   "id": "f71a9437-b33a-4b5a-b4d3-4b3c5a0d69d7",
   "metadata": {},
   "outputs": [],
   "source": [
    "base_anomalies = tables[0]\n",
    "distant_anomalies = tables[2]\n",
    "storms_anomalies = tables[4]"
   ]
  },
  {
   "cell_type": "markdown",
   "id": "e5e22be7-3853-4b25-a699-62645a15d6af",
   "metadata": {},
   "source": [
    "This is a bit of a pain because the events are spread across many files and their identification isn't consistent. Cosmic storms in particular seems to handle the naming quite differently."
   ]
  },
  {
   "cell_type": "code",
   "execution_count": 6,
   "id": "d4bd6f37-2f6c-4839-ac60-febb92bba91a",
   "metadata": {},
   "outputs": [],
   "source": [
    "possible_identifiers = [\n",
    "    '_category:0', '_category_temp:0', '_category: ', \n",
    "    '_CAT: ', '_CAT:1', '_cat:0', '_CAT:0', 'pc_astral_scar: \"'\n",
    "]\n",
    "event_names = []\n",
    "for file_path in localisation_path.joinpath('english').glob('*.yml'):\n",
    "    with open(file_path, 'r') as f:\n",
    "        for line in f.readlines():\n",
    "            name = ''\n",
    "            for identifier in possible_identifiers:\n",
    "                if identifier in line:\n",
    "                    name = line.split(identifier)[1].strip().strip('\"')\n",
    "                    \n",
    "            for storm_anomaly in storms_anomalies['Anomaly']:\n",
    "                if f'\"{storm_anomaly.lower()}\"' in line.lower() and not '.name' in line.lower():\n",
    "                    name = line.split(':')[1].strip().strip('\"')\n",
    "\n",
    "            if name and not '$' in name:\n",
    "                event_names.append(name)\n",
    "                    \n",
    "event_names = pd.DataFrame({'anomaly': event_names})"
   ]
  },
  {
   "cell_type": "markdown",
   "id": "4a09f4b3-d8fe-4f2a-9207-14dcf099a5ca",
   "metadata": {},
   "source": [
    "Merge the tables under common column names."
   ]
  },
  {
   "cell_type": "code",
   "execution_count": 7,
   "id": "22024c9c-7cce-410d-87b3-e1addfd08108",
   "metadata": {},
   "outputs": [],
   "source": [
    "dfs = []\n",
    "for table in [base_anomalies, distant_anomalies, storms_anomalies]:\n",
    "    description = 'Reward' if 'Reward' in table.columns else 'Possible outcomes'\n",
    "    dfs.append(\n",
    "        pd.DataFrame({\n",
    "            'anomaly': table['Anomaly'],  \n",
    "            'description': table[description] + ' ' + table['Celestial body']\n",
    "        })\n",
    "    )\n",
    "wiki_df = pd.concat(dfs)"
   ]
  },
  {
   "cell_type": "markdown",
   "id": "8da1516a-8634-4f11-81be-ad8af7be2199",
   "metadata": {},
   "source": [
    "Handle special cases, except Astral Scars, which is already handled."
   ]
  },
  {
   "cell_type": "code",
   "execution_count": 8,
   "id": "c4be0b04-55a2-4d31-8d4d-36dca4db2d50",
   "metadata": {},
   "outputs": [],
   "source": [
    "wiki_df.loc[wiki_df['anomaly'] == 'Ice Giant', 'anomaly'] = 'Ice Ice Giant'\n",
    "\n",
    "wiki_df.loc[wiki_df['anomaly'].str.contains('Debris Field'), 'anomaly'] = 'Debris Field'\n",
    "new_desc = wiki_df[wiki_df['anomaly'] == 'Debris Field'].groupby(['anomaly']).agg(' OR '.join)\n",
    "wiki_df.loc[wiki_df['anomaly'] == 'Debris Field', 'description'] = new_desc['description'].values[0]\n",
    "wiki_df = wiki_df.drop_duplicates(subset=['anomaly', 'description'])"
   ]
  },
  {
   "cell_type": "markdown",
   "id": "e9b7bf2b-a08f-4a7c-9c17-f73635c6323b",
   "metadata": {},
   "source": [
    "Merge the anomalies found in source code and anomalies from the wiki. \n",
    "\n",
    "- [ ] TODO handle missing anomalies (wiki has some outside the tables, plus it seems to just be missing some anomalies)"
   ]
  },
  {
   "cell_type": "code",
   "execution_count": 9,
   "id": "ed668856-dc28-47a5-9b2a-23e6a3434443",
   "metadata": {},
   "outputs": [
    {
     "data": {
      "text/plain": [
       "'57 anomalies found in the source code out of 227 currently not described.'"
      ]
     },
     "metadata": {},
     "output_type": "display_data"
    }
   ],
   "source": [
    "merged = event_names.merge(\n",
    "    wiki_df, \n",
    "    left_on=event_names['anomaly'].str.lower(), \n",
    "    right_on=wiki_df['anomaly'].str.lower(),\n",
    "    suffixes=('_source', '_wiki'),\n",
    "    how='outer', \n",
    ")\n",
    "if not merged[merged['anomaly_source'].isna()].empty:\n",
    "    display(HTML(\n",
    "        merged[merged['anomaly_source'].isna()].to_html()\n",
    "    ))\n",
    "\n",
    "display(\n",
    "    f\"{merged['anomaly_wiki'].isna().sum()} anomalies found in the source code \"\n",
    "    f\"out of {merged['anomaly_source'].shape[0]} currently not described.\"\n",
    ")\n",
    "# display(HTML(\n",
    "#     merged[merged['anomaly_wiki'].isna()].to_html()\n",
    "# ))"
   ]
  },
  {
   "cell_type": "markdown",
   "id": "f1f7ee51-2617-4ed5-ad14-11e79acd6d3b",
   "metadata": {},
   "source": [
    "Double unfortunately, not all of the anomalies in the wiki are defined witin neat tables.\n",
    "\n",
    "- [ ] TODO not sure this is worth applying, it only collects a few anomalies and each might need special handling. Keeping it here for now."
   ]
  },
  {
   "cell_type": "code",
   "execution_count": 10,
   "id": "dbe0738f-c6ed-47e8-b897-b525c522650d",
   "metadata": {},
   "outputs": [],
   "source": [
    "# from bs4 import BeautifulSoup\n",
    "# import requests\n",
    "# def clean_with_soup(url: str) -> str:\n",
    "#     r = requests.get(url).text\n",
    "#     soup = BeautifulSoup(r, \"html.parser\")\n",
    "#     return soup.get_text()\n",
    "\n",
    "# wiki_text = requests.get(anomaly_url).text\n",
    "# soup = BeautifulSoup(wiki_text, 'html.parser')\n",
    "# for line in soup.get_text().split('\\n'):\n",
    "#     if line.strip():\n",
    "#         for anomaly in merged[merged['anomaly_wiki'].isna()]['anomaly_source']:\n",
    "#             if anomaly.lower() in line.strip().lower():\n",
    "#                 display(line)"
   ]
  },
  {
   "cell_type": "markdown",
   "id": "43fd5997-dbc9-4d2b-b765-1f298c1d826c",
   "metadata": {},
   "source": [
    "Drop unnecessary columns. Keep anomaly source names as those will be used to create the mod files and need to match source code naming. Handle NaN values."
   ]
  },
  {
   "cell_type": "code",
   "execution_count": 11,
   "id": "fbee806f-bbb1-42ad-8984-7703e86dca27",
   "metadata": {},
   "outputs": [],
   "source": [
    "merged = merged.drop(['key_0', 'anomaly_wiki'], axis=1, errors='ignore')\n",
    "merged = merged.fillna(value='Missing description. Please contribute to the wiki :)')"
   ]
  },
  {
   "cell_type": "markdown",
   "id": "3e70f0bf-8782-4641-aa7e-56727eec9f1f",
   "metadata": {},
   "source": [
    "Get the color definitions from the wiki."
   ]
  },
  {
   "cell_type": "code",
   "execution_count": 12,
   "id": "b5e7906b-e92f-4ea7-8dc3-c8655a7e08a1",
   "metadata": {},
   "outputs": [],
   "source": [
    "color_table = pd.read_html('https://stellaris.paradoxwikis.com/Localisation_modding#Color_Codes')[3]\n",
    "color_df = pd.DataFrame()"
   ]
  },
  {
   "cell_type": "code",
   "execution_count": 13,
   "id": "a4549bab-01c5-414f-952c-aa7639be6082",
   "metadata": {},
   "outputs": [
    {
     "data": {
      "text/html": [
       "<div>\n",
       "<style scoped>\n",
       "    .dataframe tbody tr th:only-of-type {\n",
       "        vertical-align: middle;\n",
       "    }\n",
       "\n",
       "    .dataframe tbody tr th {\n",
       "        vertical-align: top;\n",
       "    }\n",
       "\n",
       "    .dataframe thead th {\n",
       "        text-align: right;\n",
       "    }\n",
       "</style>\n",
       "<table border=\"1\" class=\"dataframe\">\n",
       "  <thead>\n",
       "    <tr style=\"text-align: right;\">\n",
       "      <th></th>\n",
       "      <th>0</th>\n",
       "      <th>1</th>\n",
       "      <th>2</th>\n",
       "      <th>3</th>\n",
       "      <th>4</th>\n",
       "      <th>5</th>\n",
       "      <th>6</th>\n",
       "      <th>7</th>\n",
       "      <th>8</th>\n",
       "      <th>9</th>\n",
       "      <th>...</th>\n",
       "      <th>11</th>\n",
       "      <th>12</th>\n",
       "      <th>13</th>\n",
       "      <th>14</th>\n",
       "      <th>15</th>\n",
       "      <th>16</th>\n",
       "      <th>17</th>\n",
       "      <th>18</th>\n",
       "      <th>19</th>\n",
       "      <th>20</th>\n",
       "    </tr>\n",
       "  </thead>\n",
       "  <tbody>\n",
       "    <tr>\n",
       "      <th>code</th>\n",
       "      <td>W</td>\n",
       "      <td>T</td>\n",
       "      <td>g</td>\n",
       "      <td>L</td>\n",
       "      <td>P</td>\n",
       "      <td>R</td>\n",
       "      <td>S</td>\n",
       "      <td>H</td>\n",
       "      <td>Y</td>\n",
       "      <td>G</td>\n",
       "      <td>...</td>\n",
       "      <td>E</td>\n",
       "      <td>C</td>\n",
       "      <td>B</td>\n",
       "      <td>M</td>\n",
       "      <td>_</td>\n",
       "      <td>c</td>\n",
       "      <td>v</td>\n",
       "      <td>d</td>\n",
       "      <td>r</td>\n",
       "      <td>l</td>\n",
       "    </tr>\n",
       "    <tr>\n",
       "      <th>color</th>\n",
       "      <td>white</td>\n",
       "      <td>light grey</td>\n",
       "      <td>dark grey</td>\n",
       "      <td>brown</td>\n",
       "      <td>light dirty pink</td>\n",
       "      <td>red</td>\n",
       "      <td>dark orange</td>\n",
       "      <td>mango</td>\n",
       "      <td>yellow</td>\n",
       "      <td>green</td>\n",
       "      <td>...</td>\n",
       "      <td>teal</td>\n",
       "      <td>cyan</td>\n",
       "      <td>cyan-blue</td>\n",
       "      <td>purple</td>\n",
       "      <td>magenta</td>\n",
       "      <td>blue-green</td>\n",
       "      <td>faded green</td>\n",
       "      <td>tan</td>\n",
       "      <td>light purple</td>\n",
       "      <td>light green</td>\n",
       "    </tr>\n",
       "  </tbody>\n",
       "</table>\n",
       "<p>2 rows × 21 columns</p>\n",
       "</div>"
      ],
      "text/plain": [
       "          0           1          2      3                 4    5   \\\n",
       "code       W           T          g      L                 P    R   \n",
       "color  white  light grey  dark grey  brown  light dirty pink  red   \n",
       "\n",
       "                6      7       8      9   ...    11    12         13      14  \\\n",
       "code             S      H       Y      G  ...     E     C          B       M   \n",
       "color  dark orange  mango  yellow  green  ...  teal  cyan  cyan-blue  purple   \n",
       "\n",
       "            15          16           17   18            19           20  \n",
       "code         _           c            v    d             r            l  \n",
       "color  magenta  blue-green  faded green  tan  light purple  light green  \n",
       "\n",
       "[2 rows x 21 columns]"
      ]
     },
     "execution_count": 13,
     "metadata": {},
     "output_type": "execute_result"
    }
   ],
   "source": [
    "for c in ['Code', 'Color']:\n",
    "    color_df[c.lower()] = color_table[c].apply(lambda x : str(x).split('/')).str[0].str.strip()\n",
    "\n",
    "color_df['color'] = color_df['color'].str.split('⬛ ').str[1].str.lower().str.strip()\n",
    "color_df = color_df.dropna()\n",
    "color_df.T"
   ]
  },
  {
   "cell_type": "markdown",
   "id": "b53d2b95-dab2-4423-b3fb-4646a82fc900",
   "metadata": {},
   "source": [
    "Pair key words in the anomaly description. Order matters such that the first category to be found is the chosen category. Ensure colors are picked from above."
   ]
  },
  {
   "cell_type": "code",
   "execution_count": 14,
   "id": "a953810b-c919-4132-a644-79fba32e551a",
   "metadata": {},
   "outputs": [],
   "source": [
    "categories = dict(\n",
    "    red=['scientist dies', 'Paranoid trait'],\n",
    "    green=[\n",
    "        'Any Habitable Planet', 'technology', 'minerals',\n",
    "        'influence', 'unity', 'corvettes'\n",
    "    ],\n",
    "    yellow=[\n",
    "        'scaled', 'deposit', 'archaeological', 'L-Gate',\n",
    "        'Physics Research', 'Society Research', 'Engineering Research'],\n",
    ")"
   ]
  },
  {
   "cell_type": "code",
   "execution_count": 15,
   "id": "f0141bcf-3e56-471f-959e-d1f2d8e34ab1",
   "metadata": {},
   "outputs": [],
   "source": [
    "def key_word_function(x):\n",
    "    key_words = ''\n",
    "    for key, values in categories.items():\n",
    "        for value in values:\n",
    "            if value.lower() in x.lower():\n",
    "                return value.lower()\n",
    "    return key_words\n",
    "    \n",
    "def group_function(x):\n",
    "    group = 'white'\n",
    "    for key, values in categories.items():\n",
    "        for value in values:\n",
    "            if value.lower() in x.lower():\n",
    "                return key\n",
    "    return group\n",
    "\n",
    "merged['color'] = merged['description'].apply(group_function)\n",
    "merged['key_words'] = merged['description'].apply(key_word_function)\n",
    "merged = merged.merge(\n",
    "    color_df, \n",
    "    on='color', \n",
    "    # suffixes=('_source', '_wiki'),\n",
    ")"
   ]
  },
  {
   "cell_type": "code",
   "execution_count": 16,
   "id": "1d21ea74-2a60-472e-8cdc-121053f3a608",
   "metadata": {},
   "outputs": [
    {
     "data": {
      "text/plain": [
       "color\n",
       "green     86\n",
       "white     76\n",
       "yellow    61\n",
       "red        4\n",
       "Name: count, dtype: int64"
      ]
     },
     "execution_count": 16,
     "metadata": {},
     "output_type": "execute_result"
    }
   ],
   "source": [
    "merged['color'].value_counts()"
   ]
  },
  {
   "cell_type": "code",
   "execution_count": 17,
   "id": "82739fa2-b4e5-4fde-9195-a46e2f9acddc",
   "metadata": {},
   "outputs": [
    {
     "data": {
      "text/html": [
       "<table border=\"1\" class=\"dataframe\">\n",
       "  <thead>\n",
       "    <tr style=\"text-align: right;\">\n",
       "      <th></th>\n",
       "      <th>anomaly_source</th>\n",
       "      <th>description</th>\n",
       "      <th>color</th>\n",
       "      <th>key_words</th>\n",
       "      <th>code</th>\n",
       "    </tr>\n",
       "  </thead>\n",
       "  <tbody>\n",
       "    <tr>\n",
       "      <th>35</th>\n",
       "      <td>Atmospheric Storms</td>\n",
       "      <td>+3 Physics Research deposit Choice between +7 Physics Research deposit but the scientist dies or a special project to give the scientist the Expertise: Field Manipulation trait Gas Giant</td>\n",
       "      <td>red</td>\n",
       "      <td>scientist dies</td>\n",
       "      <td>R</td>\n",
       "    </tr>\n",
       "    <tr>\n",
       "      <th>89</th>\n",
       "      <td>Heavy Readings</td>\n",
       "      <td>Special project to gain 90-250 Physics Research and 2 levels and the Paranoid trait for the scientist Any Star</td>\n",
       "      <td>red</td>\n",
       "      <td>paranoid trait</td>\n",
       "      <td>R</td>\n",
       "    </tr>\n",
       "    <tr>\n",
       "      <th>155</th>\n",
       "      <td>Rainbow in the Dark</td>\n",
       "      <td>+9 Physics Research deposit Scaled Physics Research and science ship scientist gains the Paranoid trait Black Hole</td>\n",
       "      <td>red</td>\n",
       "      <td>paranoid trait</td>\n",
       "      <td>R</td>\n",
       "    </tr>\n",
       "    <tr>\n",
       "      <th>156</th>\n",
       "      <td>Rainbow in the Dark</td>\n",
       "      <td>+9 Physics Research deposit Scaled Physics Research and science ship scientist gains the Paranoid trait Black Hole</td>\n",
       "      <td>red</td>\n",
       "      <td>paranoid trait</td>\n",
       "      <td>R</td>\n",
       "    </tr>\n",
       "  </tbody>\n",
       "</table>"
      ],
      "text/plain": [
       "<IPython.core.display.HTML object>"
      ]
     },
     "metadata": {},
     "output_type": "display_data"
    }
   ],
   "source": [
    "display(HTML(\n",
    "    merged[merged['color'] == 'red'].to_html()\n",
    "))"
   ]
  },
  {
   "cell_type": "markdown",
   "id": "6ecf112a-d731-4423-aa37-7dd8198c3c84",
   "metadata": {},
   "source": [
    "Prefer to read an existing definitions file over using created definitions so that the user may change it to their liking. Recommend backing up any modifications as the code below can overwrite it. "
   ]
  },
  {
   "cell_type": "code",
   "execution_count": 18,
   "id": "690064bd-5331-42f0-87f3-5df7134bbd8e",
   "metadata": {},
   "outputs": [],
   "source": [
    "merged['description'] = merged.pop('description')\n",
    "\n",
    "definitions_file = Path('definitions.csv')\n",
    "if definitions_file.is_file():\n",
    "    merged = pd.read_csv(definitions_file)\n",
    "else:\n",
    "    merged.to_csv(definitions_file, index=False)"
   ]
  },
  {
   "cell_type": "markdown",
   "id": "b5e7d581-d4ec-44ff-a3e9-205d64f1fb31",
   "metadata": {},
   "source": [
    "Create the actual mod files. It reads directly from Stellaris source directory and copies the modified files into the mod directory. It does not alter source files. "
   ]
  },
  {
   "cell_type": "code",
   "execution_count": 19,
   "id": "96a00573-84c7-4d93-81f8-ee1cf5f63455",
   "metadata": {},
   "outputs": [],
   "source": [
    "possible_identifiers = [\n",
    "    '_category:0', '_category_temp:0', '_category: ', \n",
    "    '_CAT: ', '_CAT:1', '_cat:0', '_CAT:0', 'pc_astral_scar: \"'\n",
    "]\n",
    "\n",
    "for file_path in localisation_path.joinpath('english').rglob('*.yml'):\n",
    "    with open(file_path, 'r') as f:\n",
    "        lines = open(file_path, 'r').readlines()\n",
    "        for i, line in enumerate(lines):\n",
    "            for name, desc, code, key_words in zip(\n",
    "                merged['anomaly_source'], merged['description'], merged['code'], merged['key_words']\n",
    "            ):\n",
    "                if name in line:\n",
    "                    new_name_string = f'§{code}{name}§!'\n",
    "                    if key_words:\n",
    "                        new_name_string += f' §g({key_words})§!'\n",
    "                    for identifier in possible_identifiers:\n",
    "                        if identifier in line:\n",
    "                            lines[i] = line.replace(name, new_name_string)\n",
    "\n",
    "                    if 'cosmic_storms' in str(file_path):\n",
    "                        for storm_anomaly in storms_anomalies['Anomaly']:\n",
    "                            if f'\"{storm_anomaly.lower()}\"' in line.lower() and not '.name' in line.lower():\n",
    "                                lines[i] = line.replace(name, new_name_string)\n",
    "    with open(file_path, 'r') as f:\n",
    "        original_lines = open(file_path, 'r').readlines()\n",
    "        if lines != original_lines:      \n",
    "            new_file_name = file_path.with_stem(file_path.stem + \"_anomcat\").name\n",
    "            with open(replace_dir.joinpath(new_file_name), 'w') as f:\n",
    "                f.writelines(lines)\n",
    "                    "
   ]
  },
  {
   "cell_type": "code",
   "execution_count": null,
   "id": "ed0c5921-fdf5-4ce7-b2e5-2ae842b9689a",
   "metadata": {},
   "outputs": [],
   "source": []
  },
  {
   "cell_type": "code",
   "execution_count": null,
   "id": "029a6217-bb0b-42e8-9ad4-10a8cf3ac85b",
   "metadata": {},
   "outputs": [],
   "source": []
  },
  {
   "cell_type": "code",
   "execution_count": null,
   "id": "636b354e-86ee-43de-b42e-2c6ce7a967e1",
   "metadata": {},
   "outputs": [],
   "source": []
  },
  {
   "cell_type": "code",
   "execution_count": null,
   "id": "08b836ad-03f9-4c41-abd3-316068de036b",
   "metadata": {},
   "outputs": [],
   "source": []
  }
 ],
 "metadata": {
  "kernelspec": {
   "display_name": "Python 3 (ipykernel)",
   "language": "python",
   "name": "python3"
  },
  "language_info": {
   "codemirror_mode": {
    "name": "ipython",
    "version": 3
   },
   "file_extension": ".py",
   "mimetype": "text/x-python",
   "name": "python",
   "nbconvert_exporter": "python",
   "pygments_lexer": "ipython3",
   "version": "3.10.14"
  }
 },
 "nbformat": 4,
 "nbformat_minor": 5
}
