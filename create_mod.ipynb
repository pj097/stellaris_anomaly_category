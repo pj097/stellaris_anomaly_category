{
 "cells": [
  {
   "cell_type": "code",
   "execution_count": 57,
   "id": "54f06e83-294e-4a02-8c69-b82da33ba86e",
   "metadata": {},
   "outputs": [],
   "source": [
    "from IPython.display import display, HTML\n",
    "import pandas as pd"
   ]
  },
  {
   "cell_type": "markdown",
   "id": "29a5b401-0312-4229-93bd-bf5f38452631",
   "metadata": {},
   "source": [
    "Grab the anomaly tables from the wiki"
   ]
  },
  {
   "cell_type": "code",
   "execution_count": 23,
   "id": "a0d51c50-aa37-4dbd-8781-1b4ff23d9aa7",
   "metadata": {},
   "outputs": [
    {
     "data": {
      "text/plain": [
       "'Found 20 tables'"
      ]
     },
     "execution_count": 23,
     "metadata": {},
     "output_type": "execute_result"
    }
   ],
   "source": [
    "anomaly_url = 'https://stellaris.paradoxwikis.com/Anomaly'\n",
    "tables = pd.read_html(anomaly_url)\n",
    "f'Found {len(tables)} tables'"
   ]
  },
  {
   "cell_type": "markdown",
   "id": "48e23c9f-9232-4179-b4f4-d0c38e022c76",
   "metadata": {},
   "source": [
    "Unfortunately, not all table defintions are actually useful. Inspect tables to find which and modify below if needed."
   ]
  },
  {
   "cell_type": "code",
   "execution_count": 24,
   "id": "f71a9437-b33a-4b5a-b4d3-4b3c5a0d69d7",
   "metadata": {},
   "outputs": [],
   "source": [
    "useful_table_indices = [0, 2, 4]"
   ]
  },
  {
   "cell_type": "markdown",
   "id": "4a09f4b3-d8fe-4f2a-9207-14dcf099a5ca",
   "metadata": {},
   "source": [
    "Merge the tables under common column names."
   ]
  },
  {
   "cell_type": "code",
   "execution_count": 93,
   "id": "22024c9c-7cce-410d-87b3-e1addfd08108",
   "metadata": {},
   "outputs": [],
   "source": [
    "dfs = []\n",
    "for i in useful_table_indices:\n",
    "    table = tables[i]\n",
    "    description = 'Reward' if 'Reward' in table.columns else 'Possible outcomes'\n",
    "    dfs.append(\n",
    "        pd.DataFrame({\n",
    "            'anomaly': table['Anomaly'],  \n",
    "            'description': table[description] + ' ' + table['Celestial body']\n",
    "        })\n",
    "    )\n",
    "df = pd.concat(dfs)"
   ]
  },
  {
   "cell_type": "markdown",
   "id": "b53d2b95-dab2-4423-b3fb-4646a82fc900",
   "metadata": {},
   "source": [
    "Pair key words in the anomaly description. Order matters such that the first category to be found is the chosen category."
   ]
  },
  {
   "cell_type": "code",
   "execution_count": 158,
   "id": "a953810b-c919-4132-a644-79fba32e551a",
   "metadata": {},
   "outputs": [],
   "source": [
    "categories = dict(\n",
    "    red=['scientist dies'],\n",
    "    green=[\n",
    "        'Any Habitable Planet', 'technology', 'minerals',\n",
    "        'influence', 'unity', 'corvettes'\n",
    "    ],\n",
    "    yellow=[\n",
    "        'scaled', 'deposit', 'archaeological', 'L-Gate',\n",
    "        'Physics Research', 'Society Research', 'Engineering Research'],\n",
    ")"
   ]
  },
  {
   "cell_type": "code",
   "execution_count": 159,
   "id": "f0141bcf-3e56-471f-959e-d1f2d8e34ab1",
   "metadata": {},
   "outputs": [],
   "source": [
    "def like_function(x):\n",
    "    group = 'white'\n",
    "    for key, values in categories.items():\n",
    "        for value in values:\n",
    "            if value.lower() in x.lower():\n",
    "                return key\n",
    "    return group\n",
    "\n",
    "df['category'] = df['description'].apply(like_function)"
   ]
  },
  {
   "cell_type": "code",
   "execution_count": 160,
   "id": "1d21ea74-2a60-472e-8cdc-121053f3a608",
   "metadata": {},
   "outputs": [
    {
     "data": {
      "text/plain": [
       "category\n",
       "green     83\n",
       "yellow    63\n",
       "white     19\n",
       "red        1\n",
       "Name: count, dtype: int64"
      ]
     },
     "execution_count": 160,
     "metadata": {},
     "output_type": "execute_result"
    }
   ],
   "source": [
    "df['category'].value_counts()"
   ]
  },
  {
   "cell_type": "code",
   "execution_count": 164,
   "id": "82739fa2-b4e5-4fde-9195-a46e2f9acddc",
   "metadata": {},
   "outputs": [
    {
     "data": {
      "text/html": [
       "<table border=\"1\" class=\"dataframe\">\n",
       "  <thead>\n",
       "    <tr style=\"text-align: right;\">\n",
       "      <th></th>\n",
       "      <th>anomaly</th>\n",
       "      <th>description</th>\n",
       "      <th>category</th>\n",
       "    </tr>\n",
       "  </thead>\n",
       "  <tbody>\n",
       "    <tr>\n",
       "      <th>20</th>\n",
       "      <td>Doppler Effect</td>\n",
       "      <td>The Ransomeers event chain Uninhabitable Planet</td>\n",
       "      <td>white</td>\n",
       "    </tr>\n",
       "    <tr>\n",
       "      <th>37</th>\n",
       "      <td>Rapid Desertification</td>\n",
       "      <td>Planet gains the Alien Infestation modifier and a special project to replace it with Lush and the Bountiful Plains and Green Hills planetary features Can choose to instead gain +10% Society from Jobs and −5% Housing for 10 years if not Xenophobe Can choose to instead gain 500 Food if not Pacifist or Xenophile Can choose to instead gain a pre-sapient pop with the Delicious and Unintelligent trait on every planet if Xenophobe Dry Planet</td>\n",
       "      <td>white</td>\n",
       "    </tr>\n",
       "    <tr>\n",
       "      <th>38</th>\n",
       "      <td>Spotty Greenery</td>\n",
       "      <td>Hyperfertile Valley planetary feature Special project to add the Ancient Mining Site planetary feature and give the science ship scientist the Expertise: Industry trait Wet Planet</td>\n",
       "      <td>white</td>\n",
       "    </tr>\n",
       "    <tr>\n",
       "      <th>41</th>\n",
       "      <td>Arid Wastes</td>\n",
       "      <td>Planet gains +50% Energy from Jobs for 2 years after being colonized and 2 Frozen Gas Lake planetary features Arid</td>\n",
       "      <td>white</td>\n",
       "    </tr>\n",
       "    <tr>\n",
       "      <th>45</th>\n",
       "      <td>An Asteroid, Carved</td>\n",
       "      <td>Shrines to the Old Gods event chain Asteroid</td>\n",
       "      <td>white</td>\n",
       "    </tr>\n",
       "    <tr>\n",
       "      <th>46</th>\n",
       "      <td>An Invitation</td>\n",
       "      <td>Option to spend 200 Energy to gain a random reward Asteroid</td>\n",
       "      <td>white</td>\n",
       "    </tr>\n",
       "    <tr>\n",
       "      <th>62</th>\n",
       "      <td>Orbital Speed Demon</td>\n",
       "      <td>Orbital Speed Demon event chain Asteroid</td>\n",
       "      <td>white</td>\n",
       "    </tr>\n",
       "    <tr>\n",
       "      <th>70</th>\n",
       "      <td>On the Barren Plains</td>\n",
       "      <td>Limbo event chain Barren</td>\n",
       "      <td>white</td>\n",
       "    </tr>\n",
       "    <tr>\n",
       "      <th>83</th>\n",
       "      <td>Minesweeper</td>\n",
       "      <td>Science ship scientist gains the Expertise: New Worlds trait Gaia</td>\n",
       "      <td>white</td>\n",
       "    </tr>\n",
       "    <tr>\n",
       "      <th>89</th>\n",
       "      <td>Clouds Dance</td>\n",
       "      <td>The Gas Giant is terraformed into a Barren World and the science ship scientist gains 200 experience Gas Giant</td>\n",
       "      <td>white</td>\n",
       "    </tr>\n",
       "    <tr>\n",
       "      <th>91</th>\n",
       "      <td>Gas Giant Signal</td>\n",
       "      <td>Gas Giant Signal event chain Gas Giant</td>\n",
       "      <td>white</td>\n",
       "    </tr>\n",
       "    <tr>\n",
       "      <th>99</th>\n",
       "      <td>Kaleidoscopic</td>\n",
       "      <td>Science ship scientist gains 200 experience Ocean</td>\n",
       "      <td>white</td>\n",
       "    </tr>\n",
       "    <tr>\n",
       "      <th>102</th>\n",
       "      <td>Impossible Organism</td>\n",
       "      <td>Impossible Organism event chain Toxic</td>\n",
       "      <td>white</td>\n",
       "    </tr>\n",
       "    <tr>\n",
       "      <th>103</th>\n",
       "      <td>Pigment Poison</td>\n",
       "      <td>+10% Happiness for 20 years Toxic</td>\n",
       "      <td>white</td>\n",
       "    </tr>\n",
       "    <tr>\n",
       "      <th>108</th>\n",
       "      <td>Among the Vines and Trees</td>\n",
       "      <td>Planet gains the Nutritious Food modifier Tropical</td>\n",
       "      <td>white</td>\n",
       "    </tr>\n",
       "    <tr>\n",
       "      <th>111</th>\n",
       "      <td>Wooden Hegemony</td>\n",
       "      <td>Special project to give the science ship scientist 200 experience Tropical</td>\n",
       "      <td>white</td>\n",
       "    </tr>\n",
       "    <tr>\n",
       "      <th>10</th>\n",
       "      <td>Movement in the Clouds</td>\n",
       "      <td>Lost Amoeba event chain Gas Giant</td>\n",
       "      <td>white</td>\n",
       "    </tr>\n",
       "    <tr>\n",
       "      <th>13</th>\n",
       "      <td>Deep Tunnels</td>\n",
       "      <td>Flooded Mounds planetary feature and Watery Grave planet modifier Ocean</td>\n",
       "      <td>white</td>\n",
       "    </tr>\n",
       "    <tr>\n",
       "      <th>15</th>\n",
       "      <td>Mysterious Construct</td>\n",
       "      <td>Special project to gain the S875.1 Warform renowned paragon if AI Policy is not Outlawed Toxic</td>\n",
       "      <td>white</td>\n",
       "    </tr>\n",
       "  </tbody>\n",
       "</table>"
      ],
      "text/plain": [
       "<IPython.core.display.HTML object>"
      ]
     },
     "metadata": {},
     "output_type": "display_data"
    }
   ],
   "source": [
    "display(HTML(df[df['category'] == 'white'].to_html()))"
   ]
  },
  {
   "cell_type": "code",
   "execution_count": null,
   "id": "70fa5e7b-ad03-47fc-85d7-a59aeabb4b43",
   "metadata": {},
   "outputs": [],
   "source": []
  }
 ],
 "metadata": {
  "kernelspec": {
   "display_name": "Python 3 (ipykernel)",
   "language": "python",
   "name": "python3"
  },
  "language_info": {
   "codemirror_mode": {
    "name": "ipython",
    "version": 3
   },
   "file_extension": ".py",
   "mimetype": "text/x-python",
   "name": "python",
   "nbconvert_exporter": "python",
   "pygments_lexer": "ipython3",
   "version": "3.10.14"
  }
 },
 "nbformat": 4,
 "nbformat_minor": 5
}
